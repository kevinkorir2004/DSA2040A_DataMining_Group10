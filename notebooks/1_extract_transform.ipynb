{
 "cells": [
  {
   "cell_type": "code",
   "execution_count": 33,
   "id": "ac74b431-7600-4654-a0f4-84e2da5310ac",
   "metadata": {},
   "outputs": [
    {
     "data": {
      "text/html": [
       "<div>\n",
       "<style scoped>\n",
       "    .dataframe tbody tr th:only-of-type {\n",
       "        vertical-align: middle;\n",
       "    }\n",
       "\n",
       "    .dataframe tbody tr th {\n",
       "        vertical-align: top;\n",
       "    }\n",
       "\n",
       "    .dataframe thead th {\n",
       "        text-align: right;\n",
       "    }\n",
       "</style>\n",
       "<table border=\"1\" class=\"dataframe\">\n",
       "  <thead>\n",
       "    <tr style=\"text-align: right;\">\n",
       "      <th></th>\n",
       "      <th>age</th>\n",
       "      <th>gender</th>\n",
       "      <th>weight_kg</th>\n",
       "      <th>height_cm</th>\n",
       "      <th>smoking_status</th>\n",
       "      <th>exercise_freq_per_week</th>\n",
       "      <th>alcohol_intake_per_week</th>\n",
       "      <th>family_history</th>\n",
       "      <th>bmi</th>\n",
       "      <th>chronic_illness</th>\n",
       "    </tr>\n",
       "  </thead>\n",
       "  <tbody>\n",
       "    <tr>\n",
       "      <th>495</th>\n",
       "      <td>63</td>\n",
       "      <td>Male</td>\n",
       "      <td>93.0</td>\n",
       "      <td>171.7</td>\n",
       "      <td>Never</td>\n",
       "      <td>4</td>\n",
       "      <td>3</td>\n",
       "      <td>No</td>\n",
       "      <td>31.5</td>\n",
       "      <td>0</td>\n",
       "    </tr>\n",
       "    <tr>\n",
       "      <th>496</th>\n",
       "      <td>41</td>\n",
       "      <td>Female</td>\n",
       "      <td>60.3</td>\n",
       "      <td>158.1</td>\n",
       "      <td>Never</td>\n",
       "      <td>3</td>\n",
       "      <td>0</td>\n",
       "      <td>Yes</td>\n",
       "      <td>24.1</td>\n",
       "      <td>0</td>\n",
       "    </tr>\n",
       "    <tr>\n",
       "      <th>497</th>\n",
       "      <td>67</td>\n",
       "      <td>Male</td>\n",
       "      <td>77.2</td>\n",
       "      <td>170.6</td>\n",
       "      <td>Former</td>\n",
       "      <td>1</td>\n",
       "      <td>5</td>\n",
       "      <td>No</td>\n",
       "      <td>26.5</td>\n",
       "      <td>0</td>\n",
       "    </tr>\n",
       "    <tr>\n",
       "      <th>498</th>\n",
       "      <td>49</td>\n",
       "      <td>Male</td>\n",
       "      <td>64.4</td>\n",
       "      <td>170.9</td>\n",
       "      <td>Never</td>\n",
       "      <td>4</td>\n",
       "      <td>5</td>\n",
       "      <td>Yes</td>\n",
       "      <td>22.0</td>\n",
       "      <td>0</td>\n",
       "    </tr>\n",
       "    <tr>\n",
       "      <th>499</th>\n",
       "      <td>64</td>\n",
       "      <td>Male</td>\n",
       "      <td>57.5</td>\n",
       "      <td>187.2</td>\n",
       "      <td>Never</td>\n",
       "      <td>2</td>\n",
       "      <td>1</td>\n",
       "      <td>No</td>\n",
       "      <td>16.4</td>\n",
       "      <td>0</td>\n",
       "    </tr>\n",
       "  </tbody>\n",
       "</table>\n",
       "</div>"
      ],
      "text/plain": [
       "     age  gender  weight_kg  height_cm smoking_status  exercise_freq_per_week  \\\n",
       "495   63    Male       93.0      171.7          Never                       4   \n",
       "496   41  Female       60.3      158.1          Never                       3   \n",
       "497   67    Male       77.2      170.6         Former                       1   \n",
       "498   49    Male       64.4      170.9          Never                       4   \n",
       "499   64    Male       57.5      187.2          Never                       2   \n",
       "\n",
       "     alcohol_intake_per_week family_history   bmi  chronic_illness  \n",
       "495                        3             No  31.5                0  \n",
       "496                        0            Yes  24.1                0  \n",
       "497                        5             No  26.5                0  \n",
       "498                        5            Yes  22.0                0  \n",
       "499                        1             No  16.4                0  "
      ]
     },
     "execution_count": 33,
     "metadata": {},
     "output_type": "execute_result"
    }
   ],
   "source": [
    "import os\n",
    "import pandas as pd\n",
    "import numpy as np\n",
    "\n",
    "# ✅ Ensure directory exists\n",
    "os.makedirs(\"data/raw\", exist_ok=True)\n",
    "\n",
    "# Set random seed for reproducibility\n",
    "np.random.seed(42)\n",
    "\n",
    "# Define number of records\n",
    "n = 500\n",
    "\n",
    "# Generate synthetic health data\n",
    "data = pd.DataFrame({\n",
    "    \"age\": np.random.randint(18, 80, size=n),\n",
    "    \"gender\": np.random.choice([\"Male\", \"Female\"], size=n),\n",
    "    \"weight_kg\": np.random.normal(70, 15, size=n).round(1),\n",
    "    \"height_cm\": np.random.normal(170, 10, size=n).round(1),\n",
    "    \"smoking_status\": np.random.choice([\"Never\", \"Former\", \"Current\"], size=n, p=[0.6, 0.25, 0.15]),\n",
    "    \"exercise_freq_per_week\": np.random.poisson(3, size=n),\n",
    "    \"alcohol_intake_per_week\": np.random.poisson(2, size=n),\n",
    "    \"family_history\": np.random.choice([\"Yes\", \"No\"], size=n, p=[0.3, 0.7])\n",
    "})\n",
    "\n",
    "# Calculate BMI\n",
    "data[\"height_m\"] = data[\"height_cm\"] / 100\n",
    "data[\"bmi\"] = (data[\"weight_kg\"] / (data[\"height_m\"] ** 2)).round(1)\n",
    "data.drop(\"height_m\", axis=1, inplace=True)\n",
    "\n",
    "# Create a risk score based on features and generate a binary label\n",
    "risk_score = (\n",
    "    (data[\"age\"] > 50).astype(int) +\n",
    "    (data[\"bmi\"] > 30).astype(int) +\n",
    "    (data[\"smoking_status\"] == \"Current\").astype(int) +\n",
    "    (data[\"exercise_freq_per_week\"] < 1).astype(int) +\n",
    "    (data[\"alcohol_intake_per_week\"] > 4).astype(int) +\n",
    "    (data[\"family_history\"] == \"Yes\").astype(int)\n",
    ")\n",
    "\n",
    "data[\"chronic_illness\"] = (risk_score >= 3).astype(int)\n",
    "\n",
    "# ✅ Save to CSV\n",
    "data.to_csv(\"data/raw/synthetic_health_data.csv\", index=False)\n",
    "\n",
    "# Preview\n",
    "data.tail()\n"
   ]
  },
  {
   "cell_type": "markdown",
   "id": "50b78564",
   "metadata": {},
   "source": [
    "## Week 2 ETL by Margaret  \n",
    "Data cleaning, outlier handling, feature engineering and saving cleaned data\n"
   ]
  },
  {
   "cell_type": "code",
   "execution_count": 34,
   "id": "46cf0292",
   "metadata": {},
   "outputs": [
    {
     "data": {
      "text/html": [
       "<div>\n",
       "<style scoped>\n",
       "    .dataframe tbody tr th:only-of-type {\n",
       "        vertical-align: middle;\n",
       "    }\n",
       "\n",
       "    .dataframe tbody tr th {\n",
       "        vertical-align: top;\n",
       "    }\n",
       "\n",
       "    .dataframe thead th {\n",
       "        text-align: right;\n",
       "    }\n",
       "</style>\n",
       "<table border=\"1\" class=\"dataframe\">\n",
       "  <thead>\n",
       "    <tr style=\"text-align: right;\">\n",
       "      <th></th>\n",
       "      <th>age</th>\n",
       "      <th>gender</th>\n",
       "      <th>weight_kg</th>\n",
       "      <th>height_cm</th>\n",
       "      <th>smoking_status</th>\n",
       "      <th>exercise_freq_per_week</th>\n",
       "      <th>alcohol_intake_per_week</th>\n",
       "      <th>family_history</th>\n",
       "      <th>bmi</th>\n",
       "      <th>chronic_illness</th>\n",
       "    </tr>\n",
       "  </thead>\n",
       "  <tbody>\n",
       "    <tr>\n",
       "      <th>0</th>\n",
       "      <td>56</td>\n",
       "      <td>Female</td>\n",
       "      <td>80.5</td>\n",
       "      <td>163.1</td>\n",
       "      <td>Former</td>\n",
       "      <td>1</td>\n",
       "      <td>3</td>\n",
       "      <td>No</td>\n",
       "      <td>30.3</td>\n",
       "      <td>0</td>\n",
       "    </tr>\n",
       "    <tr>\n",
       "      <th>1</th>\n",
       "      <td>69</td>\n",
       "      <td>Male</td>\n",
       "      <td>68.0</td>\n",
       "      <td>174.9</td>\n",
       "      <td>Never</td>\n",
       "      <td>0</td>\n",
       "      <td>2</td>\n",
       "      <td>No</td>\n",
       "      <td>22.2</td>\n",
       "      <td>0</td>\n",
       "    </tr>\n",
       "    <tr>\n",
       "      <th>2</th>\n",
       "      <td>46</td>\n",
       "      <td>Female</td>\n",
       "      <td>68.9</td>\n",
       "      <td>174.2</td>\n",
       "      <td>Never</td>\n",
       "      <td>1</td>\n",
       "      <td>4</td>\n",
       "      <td>No</td>\n",
       "      <td>22.7</td>\n",
       "      <td>0</td>\n",
       "    </tr>\n",
       "    <tr>\n",
       "      <th>3</th>\n",
       "      <td>32</td>\n",
       "      <td>Male</td>\n",
       "      <td>65.8</td>\n",
       "      <td>174.0</td>\n",
       "      <td>Former</td>\n",
       "      <td>1</td>\n",
       "      <td>3</td>\n",
       "      <td>No</td>\n",
       "      <td>21.7</td>\n",
       "      <td>0</td>\n",
       "    </tr>\n",
       "    <tr>\n",
       "      <th>4</th>\n",
       "      <td>60</td>\n",
       "      <td>Male</td>\n",
       "      <td>74.4</td>\n",
       "      <td>167.7</td>\n",
       "      <td>Never</td>\n",
       "      <td>5</td>\n",
       "      <td>1</td>\n",
       "      <td>No</td>\n",
       "      <td>26.5</td>\n",
       "      <td>0</td>\n",
       "    </tr>\n",
       "  </tbody>\n",
       "</table>\n",
       "</div>"
      ],
      "text/plain": [
       "   age  gender  weight_kg  height_cm smoking_status  exercise_freq_per_week  \\\n",
       "0   56  Female       80.5      163.1         Former                       1   \n",
       "1   69    Male       68.0      174.9          Never                       0   \n",
       "2   46  Female       68.9      174.2          Never                       1   \n",
       "3   32    Male       65.8      174.0         Former                       1   \n",
       "4   60    Male       74.4      167.7          Never                       5   \n",
       "\n",
       "   alcohol_intake_per_week family_history   bmi  chronic_illness  \n",
       "0                        3             No  30.3                0  \n",
       "1                        2             No  22.2                0  \n",
       "2                        4             No  22.7                0  \n",
       "3                        3             No  21.7                0  \n",
       "4                        1             No  26.5                0  "
      ]
     },
     "execution_count": 34,
     "metadata": {},
     "output_type": "execute_result"
    }
   ],
   "source": [
    "import pandas as pd\n",
    "import numpy as np\n",
    "\n",
    "# load raw data\n",
    "df = pd.read_csv(\"../data/raw/synthetic_health_data.csv\")\n",
    "df.head()\n"
   ]
  },
  {
   "cell_type": "markdown",
   "id": "5ba1e846",
   "metadata": {},
   "source": [
    "### 🔍 Load Raw Data\n",
    "\n",
    "Imported the synthetic health dataset generated in Week 1 from the `data/raw/` folder.  \n",
    "Previewed the first few rows using `.head()` to inspect the structure and verify column types and values.\n"
   ]
  },
  {
   "cell_type": "code",
   "execution_count": 35,
   "id": "e95f9356",
   "metadata": {},
   "outputs": [
    {
     "data": {
      "text/plain": [
       "0"
      ]
     },
     "execution_count": 35,
     "metadata": {},
     "output_type": "execute_result"
    }
   ],
   "source": [
    "df.duplicated().sum()"
   ]
  },
  {
   "cell_type": "code",
   "execution_count": 36,
   "id": "251d9563",
   "metadata": {},
   "outputs": [],
   "source": [
    "df.drop_duplicates(inplace=True)"
   ]
  },
  {
   "cell_type": "code",
   "execution_count": 37,
   "id": "fafecbb4",
   "metadata": {},
   "outputs": [
    {
     "data": {
      "text/plain": [
       "age                        0\n",
       "gender                     0\n",
       "weight_kg                  0\n",
       "height_cm                  0\n",
       "smoking_status             0\n",
       "exercise_freq_per_week     0\n",
       "alcohol_intake_per_week    0\n",
       "family_history             0\n",
       "bmi                        0\n",
       "chronic_illness            0\n",
       "dtype: int64"
      ]
     },
     "execution_count": 37,
     "metadata": {},
     "output_type": "execute_result"
    }
   ],
   "source": [
    "df.isnull().sum()"
   ]
  },
  {
   "cell_type": "code",
   "execution_count": 38,
   "id": "5f288d32",
   "metadata": {},
   "outputs": [
    {
     "name": "stderr",
     "output_type": "stream",
     "text": [
      "C:\\Users\\Admin\\AppData\\Local\\Temp\\ipykernel_2604\\56380888.py:2: FutureWarning: DataFrame.fillna with 'method' is deprecated and will raise in a future version. Use obj.ffill() or obj.bfill() instead.\n",
      "  df.fillna(method='ffill', inplace=True)\n",
      "C:\\Users\\Admin\\AppData\\Local\\Temp\\ipykernel_2604\\56380888.py:3: FutureWarning: DataFrame.fillna with 'method' is deprecated and will raise in a future version. Use obj.ffill() or obj.bfill() instead.\n",
      "  df.fillna(method='bfill', inplace=True)\n"
     ]
    }
   ],
   "source": [
    "# forward-fill then backward-fill as a fallback\n",
    "df.fillna(method='ffill', inplace=True)\n",
    "df.fillna(method='bfill', inplace=True)\n"
   ]
  },
  {
   "cell_type": "markdown",
   "id": "fea66571",
   "metadata": {},
   "source": [
    "### 🧼 Data Cleaning & Preparation\n",
    "\n",
    "Began by handling potential data quality issues in the raw synthetic health dataset.  \n",
    ".Duplicates: Removed any repeated entries to ensure data integrity.  \n",
    ".Missing Values: Applied forward and backward fill to address gaps in data, simulating a realistic cleaning workflow.  \n",
    ".This step ensures a reliable foundation before performing feature engineering or statistical analysis.\n"
   ]
  },
  {
   "cell_type": "code",
   "execution_count": 39,
   "id": "355aaa1c",
   "metadata": {},
   "outputs": [],
   "source": [
    "#remove extreme BMIs\n",
    "#this keeps BMI values within 1.5*IQR of the middle range(Q1-Q3), removing extremes on both ends\n",
    "Q1 = df['bmi'].quantile(0.25)  #25th percentile\n",
    "Q3 = df['bmi'].quantile(0.75)  #75th percentile\n",
    "IQR = Q3 - Q1                  #interquartile range\n",
    "\n",
    "#create a boolean mask to keep only reasonable values\n",
    "mask = df['bmi'].between(Q1 - 1.5 * IQR, Q3 + 1.5 * IQR)\n",
    "\n",
    "df = df[mask]                  #filter the dataframe\n",
    "\n"
   ]
  },
  {
   "cell_type": "markdown",
   "id": "bb756522",
   "metadata": {},
   "source": [
    "## Section by Margaret – BMI Outlier Removal\n",
    "We use the IQR method to remove extreme BMI values that may arise from data generation artifacts.  \n",
    "This ensures robust statistical analysis and accurate modeling in later stages.\n"
   ]
  },
  {
   "cell_type": "code",
   "execution_count": 40,
   "id": "157bc5bc",
   "metadata": {},
   "outputs": [],
   "source": [
    "def bmi_category(b):\n",
    "    if b < 18.5: return \"Underweight\"\n",
    "    if b < 25:   return \"Healthy\"\n",
    "    if b < 30:   return \"Overweight\"\n",
    "    return \"Obese\"\n",
    "\n",
    "df['bmi_category'] = df['bmi'].apply(bmi_category)\n"
   ]
  },
  {
   "cell_type": "markdown",
   "id": "2f5d7fca",
   "metadata": {},
   "source": [
    "## Section by Margaret – BMI Categorization\n",
    "We categorize BMI values using standard health brackets (Underweight, Healthy, Overweight, Obese).  \n",
    "This allows for easier group analysis and better interpretability in visualizations and statistical summaries.\n"
   ]
  },
  {
   "cell_type": "code",
   "execution_count": 41,
   "id": "155d158c",
   "metadata": {},
   "outputs": [],
   "source": [
    "bins = [17, 30, 45, 60, 80]\n",
    "labels = ['18–30','31–45','46–60','61–80']\n",
    "df['age_group'] = pd.cut(df['age'], bins=bins, labels=labels)\n"
   ]
  },
  {
   "cell_type": "markdown",
   "id": "eb68a634",
   "metadata": {},
   "source": [
    "## Section by Margaret – Age Group Binning\n",
    "We bin continuous age values into structured age groups (18–30, 31–45, etc.)  \n",
    "This enables clearer comparisons across population segments and supports downstream mining.\n"
   ]
  },
  {
   "cell_type": "code",
   "execution_count": 42,
   "id": "94f7f2b6",
   "metadata": {},
   "outputs": [],
   "source": [
    "df = pd.get_dummies(\n",
    "    df,\n",
    "    columns=['gender','smoking_status','family_history','bmi_category','age_group'],\n",
    "    drop_first=True\n",
    ")\n",
    "\n"
   ]
  },
  {
   "cell_type": "markdown",
   "id": "a1e93961",
   "metadata": {},
   "source": [
    "## Section by Margaret – Categorical Encoding via One-Hot\n",
    "We apply `pd.get_dummies()` to convert categorical variables into binary columns.  \n",
    "This ensures compatibility with mining algorithms while maintaining meaningful category distinctions.\n"
   ]
  },
  {
   "cell_type": "code",
   "execution_count": 43,
   "id": "9ca06132",
   "metadata": {},
   "outputs": [],
   "source": [
    "from sklearn.preprocessing import MinMaxScaler\n",
    "\n",
    "scaler = MinMaxScaler()\n",
    "numeric_cols = ['age','weight_kg','height_cm','bmi',\n",
    "                'exercise_freq_per_week','alcohol_intake_per_week']\n",
    "\n",
    "#replace zeros with median\n",
    "#df[\"age\"] = df[\"age\"].replace(0, df[\"age\"].median())\n",
    "               \n",
    "df[numeric_cols] = scaler.fit_transform(df[numeric_cols])\n",
    "\n"
   ]
  },
  {
   "cell_type": "markdown",
   "id": "c69a2ece",
   "metadata": {},
   "source": [
    "## Section by Margaret – Feature Scaling for Mining Readiness\n",
    "We apply MinMaxScaler to normalize numeric columns between 0 and 1.  \n",
    "This ensures that all features contribute equally in mining techniques and improves algorithm stability.\n"
   ]
  },
  {
   "cell_type": "markdown",
   "id": "af137a22",
   "metadata": {},
   "source": [
    "### Feature Engineering & Data Enrichment\n",
    "\n",
    "Enhanced the dataset by deriving new insights and converting categorical variables for modeling:\n",
    "\n",
    ".BMI Category: Classified individuals based on BMI ranges (Underweight, Healthy, Overweight, Obese).\n",
    ".Age Group: Grouped ages into meaningful bins for better pattern analysis across demographics.\n",
    ".Encoded Categorical Variables: Applied one-hot encoding to variables like gender, smoking status, and family history for model compatibility.\n",
    "Normalized Numerical Features: Scaled age, weight, height, BMI, exercise, and alcohol intake for consistency across variables.\n",
    "  \n",
    "These enriched features lay the foundation for statistical analysis and predictive modeling in the next stage of the pipeline.\n"
   ]
  },
  {
   "cell_type": "code",
   "execution_count": 44,
   "id": "cb995a4f",
   "metadata": {},
   "outputs": [],
   "source": [
    "import os\n",
    "os.makedirs(\"../data/transformed\", exist_ok=True)\n",
    "\n",
    "df.to_csv(\"../data/transformed/health_cleaned.csv\", index=False)\n",
    "\n"
   ]
  }
 ],
 "metadata": {
  "kernelspec": {
   "display_name": "Python 3",
   "language": "python",
   "name": "python3"
  },
  "language_info": {
   "codemirror_mode": {
    "name": "ipython",
    "version": 3
   },
   "file_extension": ".py",
   "mimetype": "text/x-python",
   "name": "python",
   "nbconvert_exporter": "python",
   "pygments_lexer": "ipython3",
   "version": "3.11.9"
  }
 },
 "nbformat": 4,
 "nbformat_minor": 5
}
